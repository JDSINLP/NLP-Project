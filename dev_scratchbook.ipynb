{
 "cells": [
  {
   "cell_type": "code",
   "execution_count": 1,
   "id": "493b97f2",
   "metadata": {},
   "outputs": [],
   "source": [
    "import os\n",
    "import json\n",
    "from typing import Dict, List, Optional, Union, cast\n",
    "import requests\n",
    "import re\n",
    "import unicodedata\n",
    "import pandas as pd\n",
    "\n",
    "from bs4 import BeautifulSoup\n",
    "\n",
    "import matplotlib.pyplot as plt\n",
    "import seaborn as sns\n",
    "import json\n",
    "# import acquire\n",
    "import prepare\n",
    "import dev_wrangle as w\n",
    "\n",
    "from env import github_token, github_username\n",
    "import nltk\n",
    "from nltk.tokenize.toktok import ToktokTokenizer\n",
    "from nltk.corpus import stopwords\n",
    "\n",
    "from sklearn.feature_extraction.text import CountVectorizer\n",
    "from sklearn.feature_extraction.text import TfidfVectorizer\n",
    "from sklearn.tree import DecisionTreeClassifier\n",
    "from sklearn.linear_model import LogisticRegression\n",
    "from sklearn.ensemble import RandomForestClassifier\n",
    "from sklearn.neighbors import KNeighborsClassifier"
   ]
  },
  {
   "cell_type": "code",
   "execution_count": 2,
   "id": "708d5ad0",
   "metadata": {},
   "outputs": [],
   "source": [
    "df = pd.read_json('data2.json')"
   ]
  },
  {
   "cell_type": "code",
   "execution_count": 3,
   "id": "6f133c00",
   "metadata": {},
   "outputs": [
    {
     "data": {
      "text/plain": [
       "(250, 3)"
      ]
     },
     "execution_count": 3,
     "metadata": {},
     "output_type": "execute_result"
    }
   ],
   "source": [
    "df.shape"
   ]
  },
  {
   "cell_type": "code",
   "execution_count": 4,
   "id": "a674d528",
   "metadata": {},
   "outputs": [
    {
     "data": {
      "text/html": [
       "<div>\n",
       "<style scoped>\n",
       "    .dataframe tbody tr th:only-of-type {\n",
       "        vertical-align: middle;\n",
       "    }\n",
       "\n",
       "    .dataframe tbody tr th {\n",
       "        vertical-align: top;\n",
       "    }\n",
       "\n",
       "    .dataframe thead th {\n",
       "        text-align: right;\n",
       "    }\n",
       "</style>\n",
       "<table border=\"1\" class=\"dataframe\">\n",
       "  <thead>\n",
       "    <tr style=\"text-align: right;\">\n",
       "      <th></th>\n",
       "      <th>repo</th>\n",
       "      <th>language</th>\n",
       "      <th>readme_contents</th>\n",
       "    </tr>\n",
       "  </thead>\n",
       "  <tbody>\n",
       "    <tr>\n",
       "      <th>0</th>\n",
       "      <td>bitcoin/bitcoin</td>\n",
       "      <td>C++</td>\n",
       "      <td>Bitcoin Core integration/staging tree\\n=======...</td>\n",
       "    </tr>\n",
       "    <tr>\n",
       "      <th>1</th>\n",
       "      <td>bitcoinbook/bitcoinbook</td>\n",
       "      <td>AsciiDoc</td>\n",
       "      <td>Code Examples: ![travis_ci](https://travis-ci....</td>\n",
       "    </tr>\n",
       "    <tr>\n",
       "      <th>2</th>\n",
       "      <td>bitcoinj/bitcoinj</td>\n",
       "      <td>Java</td>\n",
       "      <td>image:https://github.com/bitcoinj/bitcoinj/wor...</td>\n",
       "    </tr>\n",
       "    <tr>\n",
       "      <th>3</th>\n",
       "      <td>bitcoin/bips</td>\n",
       "      <td>Wikitext</td>\n",
       "      <td>People wishing to submit BIPs, first should pr...</td>\n",
       "    </tr>\n",
       "    <tr>\n",
       "      <th>4</th>\n",
       "      <td>bitcoinjs/bitcoinjs-lib</td>\n",
       "      <td>TypeScript</td>\n",
       "      <td># BitcoinJS (bitcoinjs-lib)\\n[![Github CI](htt...</td>\n",
       "    </tr>\n",
       "  </tbody>\n",
       "</table>\n",
       "</div>"
      ],
      "text/plain": [
       "                      repo    language  \\\n",
       "0          bitcoin/bitcoin         C++   \n",
       "1  bitcoinbook/bitcoinbook    AsciiDoc   \n",
       "2        bitcoinj/bitcoinj        Java   \n",
       "3             bitcoin/bips    Wikitext   \n",
       "4  bitcoinjs/bitcoinjs-lib  TypeScript   \n",
       "\n",
       "                                     readme_contents  \n",
       "0  Bitcoin Core integration/staging tree\\n=======...  \n",
       "1  Code Examples: ![travis_ci](https://travis-ci....  \n",
       "2  image:https://github.com/bitcoinj/bitcoinj/wor...  \n",
       "3  People wishing to submit BIPs, first should pr...  \n",
       "4  # BitcoinJS (bitcoinjs-lib)\\n[![Github CI](htt...  "
      ]
     },
     "execution_count": 4,
     "metadata": {},
     "output_type": "execute_result"
    }
   ],
   "source": [
    "df.head()"
   ]
  },
  {
   "cell_type": "code",
   "execution_count": 5,
   "id": "4a47d7fe",
   "metadata": {},
   "outputs": [],
   "source": [
    "df = w.prepare_df(df)"
   ]
  },
  {
   "cell_type": "code",
   "execution_count": 6,
   "id": "ae8308b9",
   "metadata": {},
   "outputs": [
    {
     "data": {
      "text/html": [
       "<div>\n",
       "<style scoped>\n",
       "    .dataframe tbody tr th:only-of-type {\n",
       "        vertical-align: middle;\n",
       "    }\n",
       "\n",
       "    .dataframe tbody tr th {\n",
       "        vertical-align: top;\n",
       "    }\n",
       "\n",
       "    .dataframe thead th {\n",
       "        text-align: right;\n",
       "    }\n",
       "</style>\n",
       "<table border=\"1\" class=\"dataframe\">\n",
       "  <thead>\n",
       "    <tr style=\"text-align: right;\">\n",
       "      <th></th>\n",
       "      <th>repo</th>\n",
       "      <th>language</th>\n",
       "      <th>readme_contents</th>\n",
       "      <th>readme_contents_clean</th>\n",
       "      <th>length</th>\n",
       "      <th>unique</th>\n",
       "    </tr>\n",
       "  </thead>\n",
       "  <tbody>\n",
       "    <tr>\n",
       "      <th>0</th>\n",
       "      <td>bitcoin/bitcoin</td>\n",
       "      <td>C++</td>\n",
       "      <td>Bitcoin Core integration/staging tree\\n=======...</td>\n",
       "      <td>bitcoin core integration staging tree http bit...</td>\n",
       "      <td>3364</td>\n",
       "      <td>27</td>\n",
       "    </tr>\n",
       "    <tr>\n",
       "      <th>1</th>\n",
       "      <td>bitcoinj/bitcoinj</td>\n",
       "      <td>Java</td>\n",
       "      <td>image:https://github.com/bitcoinj/bitcoinj/wor...</td>\n",
       "      <td>image http github com bitcoinj bitcoinj workfl...</td>\n",
       "      <td>4642</td>\n",
       "      <td>35</td>\n",
       "    </tr>\n",
       "    <tr>\n",
       "      <th>2</th>\n",
       "      <td>spesmilo/electrum</td>\n",
       "      <td>Python</td>\n",
       "      <td># Electrum - Lightweight Bitcoin client\\n\\n```...</td>\n",
       "      <td>electrum lightweight bitcoin client licence mi...</td>\n",
       "      <td>4270</td>\n",
       "      <td>36</td>\n",
       "    </tr>\n",
       "    <tr>\n",
       "      <th>3</th>\n",
       "      <td>bitcoin-wallet/bitcoin-wallet</td>\n",
       "      <td>Java</td>\n",
       "      <td># BITCOIN WALLET\\n\\nWelcome to _Bitcoin Wallet...</td>\n",
       "      <td>bitcoin wallet welcome _bitcoin wallet_ standa...</td>\n",
       "      <td>1317</td>\n",
       "      <td>33</td>\n",
       "    </tr>\n",
       "    <tr>\n",
       "      <th>4</th>\n",
       "      <td>etotheipi/BitcoinArmory</td>\n",
       "      <td>C++</td>\n",
       "      <td>##Armory\\n\\n**Created by Alan Reiner on 13 Jul...</td>\n",
       "      <td>armory created alan reiner 13 july 2011 armory...</td>\n",
       "      <td>4101</td>\n",
       "      <td>38</td>\n",
       "    </tr>\n",
       "    <tr>\n",
       "      <th>...</th>\n",
       "      <td>...</td>\n",
       "      <td>...</td>\n",
       "      <td>...</td>\n",
       "      <td>...</td>\n",
       "      <td>...</td>\n",
       "      <td>...</td>\n",
       "    </tr>\n",
       "    <tr>\n",
       "      <th>122</th>\n",
       "      <td>graymauser/btcposbal2csv</td>\n",
       "      <td>Python</td>\n",
       "      <td>## Dump Bitcoin addresses with positive balanc...</td>\n",
       "      <td>dump bitcoin address positive balance simple u...</td>\n",
       "      <td>2974</td>\n",
       "      <td>37</td>\n",
       "    </tr>\n",
       "    <tr>\n",
       "      <th>123</th>\n",
       "      <td>square/subzero</td>\n",
       "      <td>Java</td>\n",
       "      <td>[![Build Status](https://github.com/square/sub...</td>\n",
       "      <td>build status http github com square subzero ac...</td>\n",
       "      <td>3053</td>\n",
       "      <td>31</td>\n",
       "    </tr>\n",
       "    <tr>\n",
       "      <th>124</th>\n",
       "      <td>gazbert/bxbot</td>\n",
       "      <td>Java</td>\n",
       "      <td># BX-bot\\n\\n[![Gradle CI](https://github.com/g...</td>\n",
       "      <td>bx bot gradle ci http github com gazbert bxbot...</td>\n",
       "      <td>35813</td>\n",
       "      <td>38</td>\n",
       "    </tr>\n",
       "    <tr>\n",
       "      <th>125</th>\n",
       "      <td>DeFiCh/ain</td>\n",
       "      <td>C++</td>\n",
       "      <td>[![Lint](https://github.com/DeFiCh/ain/actions...</td>\n",
       "      <td>lint http github com defich action workflow li...</td>\n",
       "      <td>2882</td>\n",
       "      <td>36</td>\n",
       "    </tr>\n",
       "    <tr>\n",
       "      <th>126</th>\n",
       "      <td>daedalus/bitcoin-recover-privkey</td>\n",
       "      <td>Python</td>\n",
       "      <td>![lint_python](https://github.com/daedalus/bit...</td>\n",
       "      <td>lint_python http github com daedalus bitcoin r...</td>\n",
       "      <td>1446</td>\n",
       "      <td>37</td>\n",
       "    </tr>\n",
       "  </tbody>\n",
       "</table>\n",
       "<p>127 rows × 6 columns</p>\n",
       "</div>"
      ],
      "text/plain": [
       "                                 repo language  \\\n",
       "0                     bitcoin/bitcoin      C++   \n",
       "1                   bitcoinj/bitcoinj     Java   \n",
       "2                   spesmilo/electrum   Python   \n",
       "3       bitcoin-wallet/bitcoin-wallet     Java   \n",
       "4             etotheipi/BitcoinArmory      C++   \n",
       "..                                ...      ...   \n",
       "122          graymauser/btcposbal2csv   Python   \n",
       "123                    square/subzero     Java   \n",
       "124                     gazbert/bxbot     Java   \n",
       "125                        DeFiCh/ain      C++   \n",
       "126  daedalus/bitcoin-recover-privkey   Python   \n",
       "\n",
       "                                       readme_contents  \\\n",
       "0    Bitcoin Core integration/staging tree\\n=======...   \n",
       "1    image:https://github.com/bitcoinj/bitcoinj/wor...   \n",
       "2    # Electrum - Lightweight Bitcoin client\\n\\n```...   \n",
       "3    # BITCOIN WALLET\\n\\nWelcome to _Bitcoin Wallet...   \n",
       "4    ##Armory\\n\\n**Created by Alan Reiner on 13 Jul...   \n",
       "..                                                 ...   \n",
       "122  ## Dump Bitcoin addresses with positive balanc...   \n",
       "123  [![Build Status](https://github.com/square/sub...   \n",
       "124  # BX-bot\\n\\n[![Gradle CI](https://github.com/g...   \n",
       "125  [![Lint](https://github.com/DeFiCh/ain/actions...   \n",
       "126  ![lint_python](https://github.com/daedalus/bit...   \n",
       "\n",
       "                                 readme_contents_clean  length  unique  \n",
       "0    bitcoin core integration staging tree http bit...    3364      27  \n",
       "1    image http github com bitcoinj bitcoinj workfl...    4642      35  \n",
       "2    electrum lightweight bitcoin client licence mi...    4270      36  \n",
       "3    bitcoin wallet welcome _bitcoin wallet_ standa...    1317      33  \n",
       "4    armory created alan reiner 13 july 2011 armory...    4101      38  \n",
       "..                                                 ...     ...     ...  \n",
       "122  dump bitcoin address positive balance simple u...    2974      37  \n",
       "123  build status http github com square subzero ac...    3053      31  \n",
       "124  bx bot gradle ci http github com gazbert bxbot...   35813      38  \n",
       "125  lint http github com defich action workflow li...    2882      36  \n",
       "126  lint_python http github com daedalus bitcoin r...    1446      37  \n",
       "\n",
       "[127 rows x 6 columns]"
      ]
     },
     "execution_count": 6,
     "metadata": {},
     "output_type": "execute_result"
    }
   ],
   "source": [
    "df"
   ]
  },
  {
   "cell_type": "code",
   "execution_count": 7,
   "id": "26f9eed9",
   "metadata": {},
   "outputs": [
    {
     "data": {
      "text/plain": [
       "Python        49\n",
       "JavaScript    37\n",
       "C++           21\n",
       "Java          20\n",
       "Name: language, dtype: int64"
      ]
     },
     "execution_count": 7,
     "metadata": {},
     "output_type": "execute_result"
    }
   ],
   "source": [
    "df.language.value_counts()"
   ]
  },
  {
   "cell_type": "code",
   "execution_count": 8,
   "id": "44c173b6",
   "metadata": {},
   "outputs": [
    {
     "data": {
      "text/plain": [
       "((76, 6), (25, 6), (26, 6))"
      ]
     },
     "execution_count": 8,
     "metadata": {},
     "output_type": "execute_result"
    }
   ],
   "source": [
    "train, val, test = w.train_val_test(df, target=None, stratify=None, seed=42)\n",
    "train.shape, val.shape, test.shape"
   ]
  },
  {
   "cell_type": "code",
   "execution_count": 9,
   "id": "f70c4b26",
   "metadata": {},
   "outputs": [],
   "source": [
    "X_train, y_train, X_val, y_val, X_test, y_test = w.x_y_split(df, 'language')"
   ]
  },
  {
   "cell_type": "code",
   "execution_count": 10,
   "id": "bee01bed",
   "metadata": {},
   "outputs": [],
   "source": [
    "X_train_tfid, X_val_tfid, X_test_tfid= w.get_tfid(X_train, X_val, X_test, y_train, y_val, y_test)"
   ]
  },
  {
   "cell_type": "code",
   "execution_count": 11,
   "id": "d429f9fa",
   "metadata": {},
   "outputs": [],
   "source": [
    "words = w.clean_text(' '.join(train['readme_contents_clean']))"
   ]
  },
  {
   "cell_type": "code",
   "execution_count": 12,
   "id": "78fc0223",
   "metadata": {},
   "outputs": [],
   "source": [
    "#### 1. What are the most common words in READMEs?"
   ]
  },
  {
   "cell_type": "code",
   "execution_count": 13,
   "id": "f3b46eb4",
   "metadata": {},
   "outputs": [
    {
     "data": {
      "image/png": "[encoded data removed]",
      "text/plain": [
       "<Figure size 1000x600 with 1 Axes>"
      ]
     },
     "metadata": {},
     "output_type": "display_data"
    }
   ],
   "source": [
    "w.viz_most_common_unigrams(words)"
   ]
  },
  {
   "cell_type": "code",
   "execution_count": 14,
   "id": "80bd850b",
   "metadata": {},
   "outputs": [
    {
     "data": {
      "image/png": "[encoded data removed]",
      "text/plain": [
       "<Figure size 1000x600 with 1 Axes>"
      ]
     },
     "metadata": {},
     "output_type": "display_data"
    }
   ],
   "source": [
    "w.viz_most_common_bigrams(words)"
   ]
  },
  {
   "cell_type": "code",
   "execution_count": 15,
   "id": "790bda57",
   "metadata": {},
   "outputs": [],
   "source": [
    "#### 2. Does the length of the README vary by programming language?"
   ]
  },
  {
   "cell_type": "code",
   "execution_count": 16,
   "id": "aff21e04",
   "metadata": {},
   "outputs": [
    {
     "data": {
      "image/png": "[encoded data removed]",
      "text/plain": [
       "<Figure size 640x480 with 1 Axes>"
      ]
     },
     "metadata": {},
     "output_type": "display_data"
    }
   ],
   "source": [
    "w.viz_length_content(train)"
   ]
  },
  {
   "cell_type": "code",
   "execution_count": 17,
   "id": "600bbf1c",
   "metadata": {},
   "outputs": [],
   "source": [
    "#### 3. Do different programming languages use a different number of unique words?"
   ]
  },
  {
   "cell_type": "code",
   "execution_count": 18,
   "id": "d9bff7ab",
   "metadata": {},
   "outputs": [
    {
     "data": {
      "text/plain": [
       "language    unique\n",
       "C++         27         5\n",
       "            38         5\n",
       "            36         3\n",
       "            33         2\n",
       "            37         2\n",
       "            7          1\n",
       "            20         1\n",
       "            29         1\n",
       "            34         1\n",
       "Java        38         8\n",
       "            35         3\n",
       "            37         3\n",
       "            31         2\n",
       "            36         2\n",
       "            29         1\n",
       "            33         1\n",
       "JavaScript  38        10\n",
       "            37         7\n",
       "            32         5\n",
       "            22         4\n",
       "            29         2\n",
       "            33         2\n",
       "            35         2\n",
       "            9          1\n",
       "            18         1\n",
       "            30         1\n",
       "            34         1\n",
       "            36         1\n",
       "Python      38        13\n",
       "            35         7\n",
       "            37         7\n",
       "            36         5\n",
       "            33         4\n",
       "            27         3\n",
       "            34         3\n",
       "            31         2\n",
       "            0          1\n",
       "            20         1\n",
       "            23         1\n",
       "            29         1\n",
       "            30         1\n",
       "Name: unique, dtype: int64"
      ]
     },
     "execution_count": 18,
     "metadata": {},
     "output_type": "execute_result"
    }
   ],
   "source": [
    "df.groupby('language').unique.value_counts()"
   ]
  },
  {
   "cell_type": "code",
   "execution_count": 19,
   "id": "0593a2ce",
   "metadata": {},
   "outputs": [
    {
     "data": {
      "image/png": "[encoded data removed]",
      "text/plain": [
       "<Figure size 640x480 with 1 Axes>"
      ]
     },
     "metadata": {},
     "output_type": "display_data"
    }
   ],
   "source": [
    "w.viz_count_unique(train)"
   ]
  },
  {
   "cell_type": "code",
   "execution_count": 20,
   "id": "d6032d5c",
   "metadata": {},
   "outputs": [],
   "source": [
    "# Modeling"
   ]
  },
  {
   "cell_type": "code",
   "execution_count": 21,
   "id": "7eb323cf",
   "metadata": {},
   "outputs": [
    {
     "name": "stdout",
     "output_type": "stream",
     "text": [
      "Baseline accuracy: 0.39473684210526316\n"
     ]
    }
   ],
   "source": [
    "w.get_baseline_accuracy(y_train)"
   ]
  },
  {
   "cell_type": "code",
   "execution_count": 22,
   "id": "919312be",
   "metadata": {},
   "outputs": [],
   "source": [
    "df_1 = w.decision_tree(X_train_tfid, X_val_tfid, y_train, y_val)"
   ]
  },
  {
   "cell_type": "code",
   "execution_count": 23,
   "id": "6d8a85d3",
   "metadata": {},
   "outputs": [
    {
     "data": {
      "text/html": [
       "<div>\n",
       "<style scoped>\n",
       "    .dataframe tbody tr th:only-of-type {\n",
       "        vertical-align: middle;\n",
       "    }\n",
       "\n",
       "    .dataframe tbody tr th {\n",
       "        vertical-align: top;\n",
       "    }\n",
       "\n",
       "    .dataframe thead th {\n",
       "        text-align: right;\n",
       "    }\n",
       "</style>\n",
       "<table border=\"1\" class=\"dataframe\">\n",
       "  <thead>\n",
       "    <tr style=\"text-align: right;\">\n",
       "      <th></th>\n",
       "      <th>max_depth</th>\n",
       "      <th>train_accuracy</th>\n",
       "      <th>validate_accuracy</th>\n",
       "      <th>difference</th>\n",
       "    </tr>\n",
       "  </thead>\n",
       "  <tbody>\n",
       "    <tr>\n",
       "      <th>3</th>\n",
       "      <td>4</td>\n",
       "      <td>0.763158</td>\n",
       "      <td>0.76</td>\n",
       "      <td>0.003158</td>\n",
       "    </tr>\n",
       "    <tr>\n",
       "      <th>2</th>\n",
       "      <td>3</td>\n",
       "      <td>0.710526</td>\n",
       "      <td>0.68</td>\n",
       "      <td>0.030526</td>\n",
       "    </tr>\n",
       "    <tr>\n",
       "      <th>4</th>\n",
       "      <td>5</td>\n",
       "      <td>0.828947</td>\n",
       "      <td>0.68</td>\n",
       "      <td>0.148947</td>\n",
       "    </tr>\n",
       "    <tr>\n",
       "      <th>8</th>\n",
       "      <td>9</td>\n",
       "      <td>0.986842</td>\n",
       "      <td>0.68</td>\n",
       "      <td>0.306842</td>\n",
       "    </tr>\n",
       "    <tr>\n",
       "      <th>5</th>\n",
       "      <td>6</td>\n",
       "      <td>0.907895</td>\n",
       "      <td>0.64</td>\n",
       "      <td>0.267895</td>\n",
       "    </tr>\n",
       "    <tr>\n",
       "      <th>6</th>\n",
       "      <td>7</td>\n",
       "      <td>0.947368</td>\n",
       "      <td>0.64</td>\n",
       "      <td>0.307368</td>\n",
       "    </tr>\n",
       "    <tr>\n",
       "      <th>7</th>\n",
       "      <td>8</td>\n",
       "      <td>0.973684</td>\n",
       "      <td>0.64</td>\n",
       "      <td>0.333684</td>\n",
       "    </tr>\n",
       "    <tr>\n",
       "      <th>1</th>\n",
       "      <td>2</td>\n",
       "      <td>0.697368</td>\n",
       "      <td>0.60</td>\n",
       "      <td>0.097368</td>\n",
       "    </tr>\n",
       "    <tr>\n",
       "      <th>0</th>\n",
       "      <td>1</td>\n",
       "      <td>0.552632</td>\n",
       "      <td>0.56</td>\n",
       "      <td>-0.007368</td>\n",
       "    </tr>\n",
       "  </tbody>\n",
       "</table>\n",
       "</div>"
      ],
      "text/plain": [
       "   max_depth  train_accuracy  validate_accuracy  difference\n",
       "3          4        0.763158               0.76    0.003158\n",
       "2          3        0.710526               0.68    0.030526\n",
       "4          5        0.828947               0.68    0.148947\n",
       "8          9        0.986842               0.68    0.306842\n",
       "5          6        0.907895               0.64    0.267895\n",
       "6          7        0.947368               0.64    0.307368\n",
       "7          8        0.973684               0.64    0.333684\n",
       "1          2        0.697368               0.60    0.097368\n",
       "0          1        0.552632               0.56   -0.007368"
      ]
     },
     "execution_count": 23,
     "metadata": {},
     "output_type": "execute_result"
    }
   ],
   "source": [
    "df_1.sort_values(by=['validate_accuracy', 'difference'], ascending = [False,True]).head(10)"
   ]
  },
  {
   "cell_type": "code",
   "execution_count": 24,
   "id": "70abff82",
   "metadata": {},
   "outputs": [],
   "source": [
    "df_2 = w.random_forest_tree(X_train_tfid, X_val_tfid, y_train, y_val)"
   ]
  },
  {
   "cell_type": "code",
   "execution_count": 25,
   "id": "c8939fac",
   "metadata": {},
   "outputs": [
    {
     "data": {
      "text/html": [
       "<div>\n",
       "<style scoped>\n",
       "    .dataframe tbody tr th:only-of-type {\n",
       "        vertical-align: middle;\n",
       "    }\n",
       "\n",
       "    .dataframe tbody tr th {\n",
       "        vertical-align: top;\n",
       "    }\n",
       "\n",
       "    .dataframe thead th {\n",
       "        text-align: right;\n",
       "    }\n",
       "</style>\n",
       "<table border=\"1\" class=\"dataframe\">\n",
       "  <thead>\n",
       "    <tr style=\"text-align: right;\">\n",
       "      <th></th>\n",
       "      <th>min_samples_leaf</th>\n",
       "      <th>train_accuracy</th>\n",
       "      <th>validate_accuracy</th>\n",
       "      <th>difference</th>\n",
       "    </tr>\n",
       "  </thead>\n",
       "  <tbody>\n",
       "    <tr>\n",
       "      <th>0</th>\n",
       "      <td>1</td>\n",
       "      <td>1.000000</td>\n",
       "      <td>0.68</td>\n",
       "      <td>0.320000</td>\n",
       "    </tr>\n",
       "    <tr>\n",
       "      <th>2</th>\n",
       "      <td>3</td>\n",
       "      <td>0.934211</td>\n",
       "      <td>0.64</td>\n",
       "      <td>0.294211</td>\n",
       "    </tr>\n",
       "    <tr>\n",
       "      <th>1</th>\n",
       "      <td>2</td>\n",
       "      <td>0.973684</td>\n",
       "      <td>0.64</td>\n",
       "      <td>0.333684</td>\n",
       "    </tr>\n",
       "    <tr>\n",
       "      <th>4</th>\n",
       "      <td>5</td>\n",
       "      <td>0.736842</td>\n",
       "      <td>0.60</td>\n",
       "      <td>0.136842</td>\n",
       "    </tr>\n",
       "    <tr>\n",
       "      <th>3</th>\n",
       "      <td>4</td>\n",
       "      <td>0.815789</td>\n",
       "      <td>0.60</td>\n",
       "      <td>0.215789</td>\n",
       "    </tr>\n",
       "    <tr>\n",
       "      <th>6</th>\n",
       "      <td>7</td>\n",
       "      <td>0.631579</td>\n",
       "      <td>0.56</td>\n",
       "      <td>0.071579</td>\n",
       "    </tr>\n",
       "    <tr>\n",
       "      <th>9</th>\n",
       "      <td>10</td>\n",
       "      <td>0.473684</td>\n",
       "      <td>0.52</td>\n",
       "      <td>-0.046316</td>\n",
       "    </tr>\n",
       "    <tr>\n",
       "      <th>8</th>\n",
       "      <td>9</td>\n",
       "      <td>0.539474</td>\n",
       "      <td>0.52</td>\n",
       "      <td>0.019474</td>\n",
       "    </tr>\n",
       "    <tr>\n",
       "      <th>7</th>\n",
       "      <td>8</td>\n",
       "      <td>0.605263</td>\n",
       "      <td>0.52</td>\n",
       "      <td>0.085263</td>\n",
       "    </tr>\n",
       "    <tr>\n",
       "      <th>5</th>\n",
       "      <td>6</td>\n",
       "      <td>0.684211</td>\n",
       "      <td>0.52</td>\n",
       "      <td>0.164211</td>\n",
       "    </tr>\n",
       "  </tbody>\n",
       "</table>\n",
       "</div>"
      ],
      "text/plain": [
       "   min_samples_leaf   train_accuracy  validate_accuracy  difference\n",
       "0                  1        1.000000               0.68    0.320000\n",
       "2                  3        0.934211               0.64    0.294211\n",
       "1                  2        0.973684               0.64    0.333684\n",
       "4                  5        0.736842               0.60    0.136842\n",
       "3                  4        0.815789               0.60    0.215789\n",
       "6                  7        0.631579               0.56    0.071579\n",
       "9                 10        0.473684               0.52   -0.046316\n",
       "8                  9        0.539474               0.52    0.019474\n",
       "7                  8        0.605263               0.52    0.085263\n",
       "5                  6        0.684211               0.52    0.164211"
      ]
     },
     "execution_count": 25,
     "metadata": {},
     "output_type": "execute_result"
    }
   ],
   "source": [
    "df_2.sort_values(by=['validate_accuracy', 'difference'], ascending = [False,True]).head(10)"
   ]
  },
  {
   "cell_type": "code",
   "execution_count": 26,
   "id": "37b55bb6",
   "metadata": {},
   "outputs": [],
   "source": [
    "def logistic_regression_test(X_trains, X_validates, y_train, y_validate):\n",
    "    # using Logistic regression model with different values of hyperparameter c to find best model\n",
    "\n",
    "    # create an empty list to append output\n",
    "    metrics = []\n",
    "    \n",
    "    \n",
    "    solver_list=['newton-cg', 'lbfgs', 'liblinear', 'sag', 'saga']\n",
    "\n",
    "    # create model1 of logistic regression\n",
    "#     logit1 = LogisticRegression(C = 1, random_state=42, solver='liblinear')\n",
    "#     logit2 = LogisticRegression(C = 0.1, random_state=42, solver='liblinear')\n",
    "    for solver in solver_list:\n",
    "        \n",
    "        # fit model\n",
    "        logit = LogisticRegression(C=1, random_state=42,\n",
    "                           intercept_scaling=1, solver=solver)\n",
    "        \n",
    "        # fit the model to training data\n",
    "        logit.fit(X_trains, y_train)\n",
    "\n",
    "        # accuracy score on train\n",
    "        accuracy_train = logit.score(X_trains,y_train)\n",
    "\n",
    "        # accuracy score on validate\n",
    "        accuracy_validate =logit.score(X_validates,y_validate)\n",
    "\n",
    "        output = {'solver': solver,\n",
    "                 'train_accuracy': accuracy_train,\n",
    "                 'validate_accuracy': accuracy_validate,\n",
    "                 }\n",
    "        metrics.append(output)\n",
    "    \n",
    "    df = pd.DataFrame(metrics)\n",
    "    \n",
    "    df['difference'] = df.train_accuracy - df.validate_accuracy\n",
    "    \n",
    "    return df"
   ]
  },
  {
   "cell_type": "code",
   "execution_count": 27,
   "id": "4ee9cfd7",
   "metadata": {},
   "outputs": [],
   "source": [
    "def logistic_regression_test_1(X_trains, X_validates, y_train, y_validate):\n",
    "    # using Logistic regression model with different values of hyperparameter c to find best model\n",
    "\n",
    "    # create an empty list to append output\n",
    "    metrics = []\n",
    "    \n",
    "    \n",
    "    solver_list=['newton-cg', 'lbfgs', 'liblinear', 'sag', 'saga']\n",
    "    c_values = [100, 10, 1.0, 0.1, 0.01]\n",
    "\n",
    "    # create model1 of logistic regression\n",
    "#     logit1 = LogisticRegression(C = 1, random_state=42, solver='liblinear')\n",
    "#     logit2 = LogisticRegression(C = 0.1, random_state=42, solver='liblinear')\n",
    "    lr_2_train_scores = []\n",
    "    lr_2_validate_scores = []\n",
    "    solver_list_names=[]\n",
    "    c_value_list=[]\n",
    "    for i in solver_list:\n",
    "        for j in c_values:\n",
    "            logit_loop_2 = LogisticRegression(C=j, random_state=42,\n",
    "                                   intercept_scaling=1, solver=i)\n",
    "            logit_loop_2.fit(X_trains, y_train)\n",
    "            lr_2_train_scores.append(logit_loop_2.score(X_trains, y_train))\n",
    "            lr_2_validate_scores.append(logit_loop_2.score(X_validates, y_validate))\n",
    "            solver_list_names.append(i)\n",
    "            c_value_list.append(j)\n",
    "    lr_2_scores = {'train':lr_2_train_scores,'validate':lr_2_validate_scores,'solver_list':solver_list_names,'c_values':c_value_list}\n",
    "\n",
    "\n",
    "    df = pd.DataFrame(lr_2_scores)\n",
    "    \n",
    "    df['difference'] = df.train - df.validate\n",
    "    \n",
    "    return df"
   ]
  },
  {
   "cell_type": "code",
   "execution_count": 28,
   "id": "cd245013",
   "metadata": {},
   "outputs": [],
   "source": [
    "df_3 = w.knn(X_train_tfid, X_val_tfid, y_train, y_val)"
   ]
  },
  {
   "cell_type": "code",
   "execution_count": 29,
   "id": "bc4897fc",
   "metadata": {},
   "outputs": [
    {
     "data": {
      "text/html": [
       "<div>\n",
       "<style scoped>\n",
       "    .dataframe tbody tr th:only-of-type {\n",
       "        vertical-align: middle;\n",
       "    }\n",
       "\n",
       "    .dataframe tbody tr th {\n",
       "        vertical-align: top;\n",
       "    }\n",
       "\n",
       "    .dataframe thead th {\n",
       "        text-align: right;\n",
       "    }\n",
       "</style>\n",
       "<table border=\"1\" class=\"dataframe\">\n",
       "  <thead>\n",
       "    <tr style=\"text-align: right;\">\n",
       "      <th></th>\n",
       "      <th>n_neighbors</th>\n",
       "      <th>train_accuracy</th>\n",
       "      <th>validate_accuracy</th>\n",
       "      <th>difference</th>\n",
       "    </tr>\n",
       "  </thead>\n",
       "  <tbody>\n",
       "    <tr>\n",
       "      <th>5</th>\n",
       "      <td>6</td>\n",
       "      <td>0.657895</td>\n",
       "      <td>0.76</td>\n",
       "      <td>-0.102105</td>\n",
       "    </tr>\n",
       "    <tr>\n",
       "      <th>4</th>\n",
       "      <td>5</td>\n",
       "      <td>0.723684</td>\n",
       "      <td>0.76</td>\n",
       "      <td>-0.036316</td>\n",
       "    </tr>\n",
       "    <tr>\n",
       "      <th>10</th>\n",
       "      <td>11</td>\n",
       "      <td>0.578947</td>\n",
       "      <td>0.72</td>\n",
       "      <td>-0.141053</td>\n",
       "    </tr>\n",
       "    <tr>\n",
       "      <th>8</th>\n",
       "      <td>9</td>\n",
       "      <td>0.592105</td>\n",
       "      <td>0.72</td>\n",
       "      <td>-0.127895</td>\n",
       "    </tr>\n",
       "    <tr>\n",
       "      <th>9</th>\n",
       "      <td>10</td>\n",
       "      <td>0.592105</td>\n",
       "      <td>0.72</td>\n",
       "      <td>-0.127895</td>\n",
       "    </tr>\n",
       "    <tr>\n",
       "      <th>6</th>\n",
       "      <td>7</td>\n",
       "      <td>0.631579</td>\n",
       "      <td>0.72</td>\n",
       "      <td>-0.088421</td>\n",
       "    </tr>\n",
       "    <tr>\n",
       "      <th>3</th>\n",
       "      <td>4</td>\n",
       "      <td>0.736842</td>\n",
       "      <td>0.72</td>\n",
       "      <td>0.016842</td>\n",
       "    </tr>\n",
       "    <tr>\n",
       "      <th>7</th>\n",
       "      <td>8</td>\n",
       "      <td>0.631579</td>\n",
       "      <td>0.68</td>\n",
       "      <td>-0.048421</td>\n",
       "    </tr>\n",
       "    <tr>\n",
       "      <th>1</th>\n",
       "      <td>2</td>\n",
       "      <td>0.973684</td>\n",
       "      <td>0.68</td>\n",
       "      <td>0.293684</td>\n",
       "    </tr>\n",
       "    <tr>\n",
       "      <th>12</th>\n",
       "      <td>13</td>\n",
       "      <td>0.539474</td>\n",
       "      <td>0.64</td>\n",
       "      <td>-0.100526</td>\n",
       "    </tr>\n",
       "  </tbody>\n",
       "</table>\n",
       "</div>"
      ],
      "text/plain": [
       "    n_neighbors  train_accuracy  validate_accuracy  difference\n",
       "5             6        0.657895               0.76   -0.102105\n",
       "4             5        0.723684               0.76   -0.036316\n",
       "10           11        0.578947               0.72   -0.141053\n",
       "8             9        0.592105               0.72   -0.127895\n",
       "9            10        0.592105               0.72   -0.127895\n",
       "6             7        0.631579               0.72   -0.088421\n",
       "3             4        0.736842               0.72    0.016842\n",
       "7             8        0.631579               0.68   -0.048421\n",
       "1             2        0.973684               0.68    0.293684\n",
       "12           13        0.539474               0.64   -0.100526"
      ]
     },
     "execution_count": 29,
     "metadata": {},
     "output_type": "execute_result"
    }
   ],
   "source": [
    "df_3.sort_values(by=['validate_accuracy', 'difference'], ascending = [False,True]).head(10)"
   ]
  },
  {
   "cell_type": "code",
   "execution_count": null,
   "id": "5aae10cf",
   "metadata": {},
   "outputs": [],
   "source": [
    "models_df = w.get_models_accuracy(X_train_tfid, X_val_tfid, y_train, y_val)\n",
    "models_df "
   ]
  },
  {
   "cell_type": "code",
   "execution_count": null,
   "id": "aeae8569",
   "metadata": {},
   "outputs": [],
   "source": [
    "w.viz_models_accuracy(models_df)\n"
   ]
  },
  {
   "cell_type": "code",
   "execution_count": null,
   "id": "37bdb4e4",
   "metadata": {},
   "outputs": [],
   "source": [
    "# Model Evalution"
   ]
  },
  {
   "cell_type": "code",
   "execution_count": null,
   "id": "78b4b970",
   "metadata": {},
   "outputs": [],
   "source": [
    "w.get_decison_tree_test(X_train_tfid, X_test_tfid, y_train, y_test,4)"
   ]
  },
  {
   "cell_type": "code",
   "execution_count": null,
   "id": "1ed2fb02",
   "metadata": {},
   "outputs": [],
   "source": []
  }
 ],
 "metadata": {
  "kernelspec": {
   "display_name": "Python 3 (ipykernel)",
   "language": "python",
   "name": "python3"
  },
  "language_info": {
   "codemirror_mode": {
    "name": "ipython",
    "version": 3
   },
   "file_extension": ".py",
   "mimetype": "text/x-python",
   "name": "python",
   "nbconvert_exporter": "python",
   "pygments_lexer": "ipython3",
   "version": "3.9.13"
  }
 },
 "nbformat": 4,
 "nbformat_minor": 5
}
